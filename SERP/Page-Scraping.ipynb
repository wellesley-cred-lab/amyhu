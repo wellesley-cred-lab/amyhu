{
 "cells": [
  {
   "cell_type": "markdown",
   "metadata": {
    "colab_type": "text",
    "id": "20TiIlo07wNK"
   },
   "source": []
  },
  {
   "cell_type": "markdown",
   "metadata": {},
   "source": [
    "## Part 3: BeautifulSoup\n",
    "\n",
    "This is a library that helps parse HTML documents."
   ]
  },
  {
   "cell_type": "code",
   "execution_count": 849,
   "metadata": {},
   "outputs": [],
   "source": [
    "import bs4"
   ]
  },
  {
   "cell_type": "code",
   "execution_count": 850,
   "metadata": {},
   "outputs": [],
   "source": [
    "from bs4 import BeautifulSoup as BS"
   ]
  },
  {
   "cell_type": "code",
   "execution_count": 851,
   "metadata": {},
   "outputs": [],
   "source": [
    "import os"
   ]
  },
  {
   "cell_type": "code",
   "execution_count": 852,
   "metadata": {},
   "outputs": [],
   "source": [
    "def getHTMLPage(filename):\n",
    "    with open(filename, \"r\") as f:\n",
    "        text = f.read()\n",
    "        return text"
   ]
  },
  {
   "cell_type": "code",
   "execution_count": 853,
   "metadata": {},
   "outputs": [],
   "source": [
    "def getOrganic(htmltext):\n",
    "    peopleAsk = []\n",
    "    domTree = BS (htmltext, 'html.parser')\n",
    "    contentHTML = domTree.find(id=\"search\")\n",
    "    #print(contentHTML)\n",
    "    peopleAlsoAsk = contentHTML.find_all(\"div\", class_=\"ULSxyf\")\n",
    "    for tag in peopleAlsoAsk:\n",
    "        tag.replace_with('')\n",
    "    #print(contentHTML)\n",
    "    \n",
    "    organicContent = []\n",
    "    contents = contentHTML.find_all(\"div\", class_=\"g\")\n",
    "    #contents = getTwitter(contents)\n",
    "    count = 1\n",
    "    for content in contents:\n",
    "        organic = content.find(\"div\", class_=\"yuRUbf\")\n",
    "        link=organic.find(\"a\").get('href')\n",
    "        #print(link)\n",
    "        title=organic.find(\"h3\").text\n",
    "        #print(title)\n",
    "        domain = organic.find(\"cite\", attrs={\"role\": \"text\"}).text\n",
    "        domain=domain.split()[0]\n",
    "        #print(domain)\n",
    "        label=\"org-\"+str(count)\n",
    "        organicContent.append((label, domain, link, title))\n",
    "        count+=1\n",
    "\n",
    "    #print(organicContent)\n",
    "    return organicContent"
   ]
  },
  {
   "cell_type": "code",
   "execution_count": 854,
   "metadata": {},
   "outputs": [],
   "source": [
    "def getContent(filename):\n",
    "    filepath = os.path.join(\"SERP_Collection1\",filename)\n",
    "    html = getHTMLPage(filepath)\n",
    "    organicContent = getOrganic(html)\n",
    "    "
   ]
  },
  {
   "cell_type": "code",
   "execution_count": 855,
   "metadata": {
    "scrolled": true
   },
   "outputs": [],
   "source": [
    "#getContent(\"(f)ae (f)aer_P5.html\")"
   ]
  },
  {
   "cell_type": "code",
   "execution_count": 856,
   "metadata": {},
   "outputs": [
    {
     "data": {
      "text/plain": [
       "130"
      ]
     },
     "execution_count": 856,
     "metadata": {},
     "output_type": "execute_result"
    }
   ],
   "source": [
    "files = os.listdir('SERP_Collection1')\n",
    "files.remove(\".DS_Store\")\n",
    "len(files)"
   ]
  },
  {
   "cell_type": "code",
   "execution_count": 857,
   "metadata": {},
   "outputs": [],
   "source": [
    "files.sort()\n",
    "#files"
   ]
  },
  {
   "cell_type": "code",
   "execution_count": 858,
   "metadata": {},
   "outputs": [],
   "source": [
    "allOrgs = []\n",
    "\n",
    "for f in files:\n",
    "    url = f\"SERP_Collection1/{f}\"\n",
    "    #print(f)\n",
    "    html= getHTMLPage(url)\n",
    "    organicRes = getOrganic(html)\n",
    "    query = f.split('_')[0].lower()\n",
    "    for res in organicRes:\n",
    "        d = {'query': query, 'position': res[0], 'domainURL': res[1], 'link': res[2],\n",
    "            'title': res[3]}\n",
    "        allOrgs.append(d)    "
   ]
  },
  {
   "cell_type": "code",
   "execution_count": 859,
   "metadata": {},
   "outputs": [],
   "source": [
    "import csv"
   ]
  },
  {
   "cell_type": "code",
   "execution_count": 860,
   "metadata": {},
   "outputs": [],
   "source": [
    "with open('organic_results.csv', 'w', newline='') as outFile:\n",
    "    fields = ['query', 'position', 'domainURL', 'link', 'title']\n",
    "    writer = csv.DictWriter(outFile, fieldnames = fields)\n",
    "    \n",
    "    writer.writeheader()\n",
    "    for org in allOrgs:\n",
    "        writer.writerow(org)"
   ]
  },
  {
   "cell_type": "markdown",
   "metadata": {},
   "source": [
    "We will continue doing more sophisticated uses of BeautifulSoup in Day 4"
   ]
  },
  {
   "cell_type": "code",
   "execution_count": 861,
   "metadata": {},
   "outputs": [],
   "source": [
    "import pandas as pd"
   ]
  },
  {
   "cell_type": "code",
   "execution_count": 862,
   "metadata": {},
   "outputs": [
    {
     "data": {
      "text/html": [
       "<div>\n",
       "<style scoped>\n",
       "    .dataframe tbody tr th:only-of-type {\n",
       "        vertical-align: middle;\n",
       "    }\n",
       "\n",
       "    .dataframe tbody tr th {\n",
       "        vertical-align: top;\n",
       "    }\n",
       "\n",
       "    .dataframe thead th {\n",
       "        text-align: right;\n",
       "    }\n",
       "</style>\n",
       "<table border=\"1\" class=\"dataframe\">\n",
       "  <thead>\n",
       "    <tr style=\"text-align: right;\">\n",
       "      <th></th>\n",
       "      <th>query</th>\n",
       "      <th>position</th>\n",
       "      <th>domainURL</th>\n",
       "      <th>link</th>\n",
       "      <th>title</th>\n",
       "    </tr>\n",
       "  </thead>\n",
       "  <tbody>\n",
       "    <tr>\n",
       "      <th>0</th>\n",
       "      <td>(f)ae (f)aer</td>\n",
       "      <td>org-1</td>\n",
       "      <td>https://stayhipp.com</td>\n",
       "      <td>https://stayhipp.com/glossary/ae-aer-fae-faer-...</td>\n",
       "      <td>Ae – Aer , Fae - Faer Pronouns - StayHipp</td>\n",
       "    </tr>\n",
       "    <tr>\n",
       "      <th>1</th>\n",
       "      <td>(f)ae (f)aer</td>\n",
       "      <td>org-2</td>\n",
       "      <td>https://www.ndsu.edu</td>\n",
       "      <td>https://www.ndsu.edu/lgbtq/education_resources...</td>\n",
       "      <td>Gender Pronouns | LGBTQ+ Resources | NDSU</td>\n",
       "    </tr>\n",
       "    <tr>\n",
       "      <th>2</th>\n",
       "      <td>(f)ae (f)aer</td>\n",
       "      <td>org-3</td>\n",
       "      <td>https://pronoun.fandom.com</td>\n",
       "      <td>https://pronoun.fandom.com/wiki/Ae/Aer</td>\n",
       "      <td>Ae/Aer | Pronoun Wiki</td>\n",
       "    </tr>\n",
       "    <tr>\n",
       "      <th>3</th>\n",
       "      <td>(f)ae (f)aer</td>\n",
       "      <td>org-4</td>\n",
       "      <td>https://neopronounfaq.tumblr.com</td>\n",
       "      <td>https://neopronounfaq.tumblr.com/post/18718862...</td>\n",
       "      <td>Neopronoun Conjugation Guides — Ae/Aer Guide</td>\n",
       "    </tr>\n",
       "    <tr>\n",
       "      <th>4</th>\n",
       "      <td>(f)ae (f)aer</td>\n",
       "      <td>org-5</td>\n",
       "      <td>https://rainbowcenter.uconn.edu</td>\n",
       "      <td>https://rainbowcenter.uconn.edu/wp-content/upl...</td>\n",
       "      <td>Gender and Pronoun Guide | UCONN Rainbow Center</td>\n",
       "    </tr>\n",
       "    <tr>\n",
       "      <th>...</th>\n",
       "      <td>...</td>\n",
       "      <td>...</td>\n",
       "      <td>...</td>\n",
       "      <td>...</td>\n",
       "      <td>...</td>\n",
       "    </tr>\n",
       "    <tr>\n",
       "      <th>1114</th>\n",
       "      <td>ze hir</td>\n",
       "      <td>org-4</td>\n",
       "      <td>https://pronoun.fandom.com</td>\n",
       "      <td>https://pronoun.fandom.com/wiki/Ze/Hir</td>\n",
       "      <td>Ze/Hir | Pronoun Wiki</td>\n",
       "    </tr>\n",
       "    <tr>\n",
       "      <th>1115</th>\n",
       "      <td>ze hir</td>\n",
       "      <td>org-5</td>\n",
       "      <td>https://uwm.edu</td>\n",
       "      <td>https://uwm.edu/lgbtrc/support/gender-pronouns/</td>\n",
       "      <td>Gender Pronouns | LGBTQ+ Resource Center - Uni...</td>\n",
       "    </tr>\n",
       "    <tr>\n",
       "      <th>1116</th>\n",
       "      <td>ze hir</td>\n",
       "      <td>org-6</td>\n",
       "      <td>https://www.bloomberg.com</td>\n",
       "      <td>https://www.bloomberg.com/news/articles/2015-0...</td>\n",
       "      <td>'Ze' or 'They'? A Guide to Using Gender-Neutra...</td>\n",
       "    </tr>\n",
       "    <tr>\n",
       "      <th>1117</th>\n",
       "      <td>ze hir</td>\n",
       "      <td>org-7</td>\n",
       "      <td>https://www.them.us</td>\n",
       "      <td>https://www.them.us/story/gender-neutral-prono...</td>\n",
       "      <td>Gender-Neutral Pronouns 101: Everything You've...</td>\n",
       "    </tr>\n",
       "    <tr>\n",
       "      <th>1118</th>\n",
       "      <td>ze hir</td>\n",
       "      <td>org-8</td>\n",
       "      <td>https://en.pronouns.page</td>\n",
       "      <td>https://en.pronouns.page/ze</td>\n",
       "      <td>My pronouns are: ze/hir • Pronouns.page</td>\n",
       "    </tr>\n",
       "  </tbody>\n",
       "</table>\n",
       "<p>1119 rows × 5 columns</p>\n",
       "</div>"
      ],
      "text/plain": [
       "             query position                         domainURL  \\\n",
       "0     (f)ae (f)aer    org-1              https://stayhipp.com   \n",
       "1     (f)ae (f)aer    org-2              https://www.ndsu.edu   \n",
       "2     (f)ae (f)aer    org-3        https://pronoun.fandom.com   \n",
       "3     (f)ae (f)aer    org-4  https://neopronounfaq.tumblr.com   \n",
       "4     (f)ae (f)aer    org-5   https://rainbowcenter.uconn.edu   \n",
       "...            ...      ...                               ...   \n",
       "1114        ze hir    org-4        https://pronoun.fandom.com   \n",
       "1115        ze hir    org-5                   https://uwm.edu   \n",
       "1116        ze hir    org-6         https://www.bloomberg.com   \n",
       "1117        ze hir    org-7               https://www.them.us   \n",
       "1118        ze hir    org-8          https://en.pronouns.page   \n",
       "\n",
       "                                                   link  \\\n",
       "0     https://stayhipp.com/glossary/ae-aer-fae-faer-...   \n",
       "1     https://www.ndsu.edu/lgbtq/education_resources...   \n",
       "2                https://pronoun.fandom.com/wiki/Ae/Aer   \n",
       "3     https://neopronounfaq.tumblr.com/post/18718862...   \n",
       "4     https://rainbowcenter.uconn.edu/wp-content/upl...   \n",
       "...                                                 ...   \n",
       "1114             https://pronoun.fandom.com/wiki/Ze/Hir   \n",
       "1115    https://uwm.edu/lgbtrc/support/gender-pronouns/   \n",
       "1116  https://www.bloomberg.com/news/articles/2015-0...   \n",
       "1117  https://www.them.us/story/gender-neutral-prono...   \n",
       "1118                        https://en.pronouns.page/ze   \n",
       "\n",
       "                                                  title  \n",
       "0             Ae – Aer , Fae - Faer Pronouns - StayHipp  \n",
       "1             Gender Pronouns | LGBTQ+ Resources | NDSU  \n",
       "2                                 Ae/Aer | Pronoun Wiki  \n",
       "3          Neopronoun Conjugation Guides — Ae/Aer Guide  \n",
       "4       Gender and Pronoun Guide | UCONN Rainbow Center  \n",
       "...                                                 ...  \n",
       "1114                              Ze/Hir | Pronoun Wiki  \n",
       "1115  Gender Pronouns | LGBTQ+ Resource Center - Uni...  \n",
       "1116  'Ze' or 'They'? A Guide to Using Gender-Neutra...  \n",
       "1117  Gender-Neutral Pronouns 101: Everything You've...  \n",
       "1118            My pronouns are: ze/hir • Pronouns.page  \n",
       "\n",
       "[1119 rows x 5 columns]"
      ]
     },
     "execution_count": 862,
     "metadata": {},
     "output_type": "execute_result"
    }
   ],
   "source": [
    "df = pd.read_csv('organic_results.csv')\n",
    "df"
   ]
  },
  {
   "cell_type": "code",
   "execution_count": null,
   "metadata": {},
   "outputs": [],
   "source": []
  }
 ],
 "metadata": {
  "colab": {
   "name": "requests.ipynb",
   "provenance": []
  },
  "kernelspec": {
   "display_name": "Python 3 (ipykernel)",
   "language": "python",
   "name": "python3"
  },
  "language_info": {
   "codemirror_mode": {
    "name": "ipython",
    "version": 3
   },
   "file_extension": ".py",
   "mimetype": "text/x-python",
   "name": "python",
   "nbconvert_exporter": "python",
   "pygments_lexer": "ipython3",
   "version": "3.9.7"
  }
 },
 "nbformat": 4,
 "nbformat_minor": 1
}
