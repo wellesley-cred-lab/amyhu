{
 "cells": [
  {
   "cell_type": "markdown",
   "id": "d8304140",
   "metadata": {},
   "source": [
    "This file generates the html tags for the query terms"
   ]
  },
  {
   "cell_type": "code",
   "execution_count": 54,
   "id": "6d0f3d82",
   "metadata": {},
   "outputs": [],
   "source": [
    "import os"
   ]
  },
  {
   "cell_type": "markdown",
   "id": "0a87690e",
   "metadata": {},
   "source": [
    "Get the file names from the htmlPages directory"
   ]
  },
  {
   "cell_type": "code",
   "execution_count": 55,
   "id": "b262c45d",
   "metadata": {},
   "outputs": [
    {
     "data": {
      "text/plain": [
       "130"
      ]
     },
     "execution_count": 55,
     "metadata": {},
     "output_type": "execute_result"
    }
   ],
   "source": [
    "files = os.listdir('htmlPages')\n",
    "#print(files)\n",
    "files.remove(\".DS_Store\")\n",
    "len(files)"
   ]
  },
  {
   "cell_type": "code",
   "execution_count": 56,
   "id": "ecbc138a",
   "metadata": {},
   "outputs": [],
   "source": [
    "files.sort()"
   ]
  },
  {
   "cell_type": "code",
   "execution_count": 57,
   "id": "0483ff78",
   "metadata": {},
   "outputs": [],
   "source": [
    "import json"
   ]
  },
  {
   "cell_type": "code",
   "execution_count": 58,
   "id": "7e33eec7",
   "metadata": {},
   "outputs": [],
   "source": [
    "# Load from the identity file\n",
    "\n",
    "with open('identitiesQueryList.json') as inFile:\n",
    "    identitiesList = json.load(inFile)\n",
    "#print(identitiesList)"
   ]
  },
  {
   "cell_type": "code",
   "execution_count": 59,
   "id": "42d8d6a0",
   "metadata": {},
   "outputs": [],
   "source": [
    "identities = []\n",
    "for f in files:    \n",
    "    queryName = f[0:f.find(\"_\")]\n",
    "    #print(queryName)\n",
    "    if queryName in identitiesList:\n",
    "        filePath = \"htmlPages/\"+f\n",
    "        identities.append({\"filePath\":filePath, \"queryName\":queryName})\n",
    "        #print(filePath)\n",
    "#print(identities)"
   ]
  },
  {
   "cell_type": "code",
   "execution_count": null,
   "id": "2f71bdc6",
   "metadata": {},
   "outputs": [],
   "source": []
  },
  {
   "cell_type": "code",
   "execution_count": 60,
   "id": "f5e5ddfb",
   "metadata": {},
   "outputs": [],
   "source": [
    "# Load from the relationship file\n",
    "\n",
    "with open('relationshipsQueryList.json') as inFile:\n",
    "    relationshipsList = json.load(inFile)\n",
    "#print(relationshipsList)"
   ]
  },
  {
   "cell_type": "code",
   "execution_count": 61,
   "id": "32827c73",
   "metadata": {},
   "outputs": [],
   "source": [
    "relationships = []\n",
    "for f in files:    \n",
    "    queryName = f[0:f.find(\"_\")]\n",
    "    #print(queryName)\n",
    "    if queryName in relationshipsList:\n",
    "        filePath = \"htmlPages/\"+f\n",
    "        relationships.append({\"filePath\":filePath, \"queryName\":queryName})\n",
    "        #print(filePath)\n",
    "#print(relationships)"
   ]
  },
  {
   "cell_type": "code",
   "execution_count": null,
   "id": "31c6e714",
   "metadata": {},
   "outputs": [],
   "source": []
  },
  {
   "cell_type": "code",
   "execution_count": 62,
   "id": "851c0f45",
   "metadata": {},
   "outputs": [],
   "source": [
    "from jinja2 import Template"
   ]
  },
  {
   "cell_type": "code",
   "execution_count": 63,
   "id": "3cd991ec",
   "metadata": {},
   "outputs": [],
   "source": [
    "#Create the HTML template for identities\n",
    "\n",
    "htmlTemplate = \"\"\"\n",
    "<DOCTYPE html>\n",
    "<html>\n",
    "    <head><title>Queries</title></head>\n",
    "    <body>\n",
    "        <h1>Identities</h1>\n",
    "        <ul>\n",
    "        {% for identity in identities %}\n",
    "            <li><a id=\"{{ identity['queryName'] }}\" data-src=\"{{identity['filePath']}}\">{{identity['queryName']}}</a></li> \n",
    "        {% endfor %}\n",
    "        </ul>\n",
    "    </body>\n",
    "</html>\n",
    "\"\"\"\n",
    "\n",
    "tempObj = Template(htmlTemplate)"
   ]
  },
  {
   "cell_type": "code",
   "execution_count": 64,
   "id": "9486f138",
   "metadata": {},
   "outputs": [],
   "source": [
    "#Render the template by passing as an argument the list of objects.\n",
    "\n",
    "result = tempObj.render(identities=identities)\n",
    "#print(result)"
   ]
  },
  {
   "cell_type": "code",
   "execution_count": 65,
   "id": "8386d897",
   "metadata": {},
   "outputs": [],
   "source": [
    "with open('identityQueryTags.html', 'w') as outFile:\n",
    "    outFile.write(result)"
   ]
  },
  {
   "cell_type": "code",
   "execution_count": null,
   "id": "b1c65359",
   "metadata": {},
   "outputs": [],
   "source": []
  },
  {
   "cell_type": "code",
   "execution_count": 66,
   "id": "534fd0e7",
   "metadata": {},
   "outputs": [],
   "source": [
    "#Create the HTML template for relationships\n",
    "\n",
    "htmlTemplate = \"\"\"\n",
    "<DOCTYPE html>\n",
    "<html>\n",
    "    <head><title>Queries</title></head>\n",
    "    <body>\n",
    "        <h1>Relationships</h1>\n",
    "        <ul>\n",
    "        {% for relationship in relationships %}\n",
    "            <li><a id=\"{{ relationship['queryName'] }}\" data-src=\"{{relationship['filePath']}}\">{{relationship['queryName']}}</a></li> \n",
    "        {% endfor %}\n",
    "        </ul>\n",
    "    </body>\n",
    "</html>\n",
    "\"\"\"\n",
    "\n",
    "tempObj = Template(htmlTemplate)"
   ]
  },
  {
   "cell_type": "code",
   "execution_count": 67,
   "id": "715a204a",
   "metadata": {},
   "outputs": [
    {
     "name": "stdout",
     "output_type": "stream",
     "text": [
      "\n",
      "<DOCTYPE html>\n",
      "<html>\n",
      "    <head><title>Queries</title></head>\n",
      "    <body>\n",
      "        <h1>Relationships</h1>\n",
      "        <ul>\n",
      "        \n",
      "            <li><a id=\"Abusive relationship cycle\" data-src=\"htmlPages/Abusive relationship cycle_P3.html\">Abusive relationship cycle</a></li> \n",
      "        \n",
      "            <li><a id=\"Abusive relationship help MA \" data-src=\"htmlPages/Abusive relationship help MA _P3.html\">Abusive relationship help MA </a></li> \n",
      "        \n",
      "            <li><a id=\"Abusive relationship help\" data-src=\"htmlPages/Abusive relationship help_P3.html\">Abusive relationship help</a></li> \n",
      "        \n",
      "            <li><a id=\"Abusive relationship signs\" data-src=\"htmlPages/Abusive relationship signs_P3.html\">Abusive relationship signs</a></li> \n",
      "        \n",
      "            <li><a id=\"Abusive relationship types \" data-src=\"htmlPages/Abusive relationship types _P3.html\">Abusive relationship types </a></li> \n",
      "        \n",
      "            <li><a id=\"Abusive relationship\" data-src=\"htmlPages/Abusive relationship_P3.html\">Abusive relationship</a></li> \n",
      "        \n",
      "            <li><a id=\"Attachment styles and cycles of abuse\" data-src=\"htmlPages/Attachment styles and cycles of abuse_P4.html\">Attachment styles and cycles of abuse</a></li> \n",
      "        \n",
      "            <li><a id=\"Communities for victims of partner-based violence\" data-src=\"htmlPages/Communities for victims of partner-based violence_P4.html\">Communities for victims of partner-based violence</a></li> \n",
      "        \n",
      "            <li><a id=\"Different kinds of domestic abuse\" data-src=\"htmlPages/Different kinds of domestic abuse_P6.html\">Different kinds of domestic abuse</a></li> \n",
      "        \n",
      "            <li><a id=\"Domestic violence hotlines and resources\" data-src=\"htmlPages/Domestic violence hotlines and resources_P6.html\">Domestic violence hotlines and resources</a></li> \n",
      "        \n",
      "            <li><a id=\"Domestic violence\" data-src=\"htmlPages/Domestic violence_P6.html\">Domestic violence</a></li> \n",
      "        \n",
      "            <li><a id=\"Emotional vs physical abuse\" data-src=\"htmlPages/Emotional vs physical abuse_P6.html\">Emotional vs physical abuse</a></li> \n",
      "        \n",
      "            <li><a id=\"Gaslighting\" data-src=\"htmlPages/Gaslighting_P3.html\">Gaslighting</a></li> \n",
      "        \n",
      "            <li><a id=\"Healthy vs unhealthy love\" data-src=\"htmlPages/Healthy vs unhealthy love_P4.html\">Healthy vs unhealthy love</a></li> \n",
      "        \n",
      "            <li><a id=\"Hotlines for those in abusive relationships\" data-src=\"htmlPages/Hotlines for those in abusive relationships_P4.html\">Hotlines for those in abusive relationships</a></li> \n",
      "        \n",
      "            <li><a id=\"How become financially independent in a relationship\" data-src=\"htmlPages/How become financially independent in a relationship_P4.html\">How become financially independent in a relationship</a></li> \n",
      "        \n",
      "            <li><a id=\"How many women die from domestic violence\" data-src=\"htmlPages/How many women die from domestic violence_P6.html\">How many women die from domestic violence</a></li> \n",
      "        \n",
      "            <li><a id=\"How many women suffer from violence in relationships\" data-src=\"htmlPages/How many women suffer from violence in relationships_P6.html\">How many women suffer from violence in relationships</a></li> \n",
      "        \n",
      "            <li><a id=\"How to get out of a toxic relationship\" data-src=\"htmlPages/How to get out of a toxic relationship_P4.html\">How to get out of a toxic relationship</a></li> \n",
      "        \n",
      "            <li><a id=\"How to help a friend in an abusive relationship\" data-src=\"htmlPages/How to help a friend in an abusive relationship_P6.html\">How to help a friend in an abusive relationship</a></li> \n",
      "        \n",
      "            <li><a id=\"How to learn to receive healthy love\" data-src=\"htmlPages/How to learn to receive healthy love_P4.html\">How to learn to receive healthy love</a></li> \n",
      "        \n",
      "            <li><a id=\"How to leave an abusive relationship\" data-src=\"htmlPages/How to leave an abusive relationship_P6.html\">How to leave an abusive relationship</a></li> \n",
      "        \n",
      "            <li><a id=\"How to recognize an abusive partner\" data-src=\"htmlPages/How to recognize an abusive partner_P6.html\">How to recognize an abusive partner</a></li> \n",
      "        \n",
      "            <li><a id=\"How to recognize emotional abuse in relationships\" data-src=\"htmlPages/How to recognize emotional abuse in relationships_P4.html\">How to recognize emotional abuse in relationships</a></li> \n",
      "        \n",
      "            <li><a id=\"How to recover from an abusive relationship\" data-src=\"htmlPages/How to recover from an abusive relationship_P6.html\">How to recover from an abusive relationship</a></li> \n",
      "        \n",
      "            <li><a id=\"Learning about attachment styles\" data-src=\"htmlPages/Learning about attachment styles_P4.html\">Learning about attachment styles</a></li> \n",
      "        \n",
      "            <li><a id=\"Partner abuse\" data-src=\"htmlPages/Partner abuse_P6.html\">Partner abuse</a></li> \n",
      "        \n",
      "            <li><a id=\"Resources for reporting partner abuse\" data-src=\"htmlPages/Resources for reporting partner abuse_P4.html\">Resources for reporting partner abuse</a></li> \n",
      "        \n",
      "            <li><a id=\"Safety plan domestic violence\" data-src=\"htmlPages/Safety plan domestic violence_P6.html\">Safety plan domestic violence</a></li> \n",
      "        \n",
      "            <li><a id=\"Toxic relationship patterns\" data-src=\"htmlPages/Toxic relationship patterns_P3.html\">Toxic relationship patterns</a></li> \n",
      "        \n",
      "            <li><a id=\"Toxic relationship test \" data-src=\"htmlPages/Toxic relationship test _P3.html\">Toxic relationship test </a></li> \n",
      "        \n",
      "            <li><a id=\"Toxic relationship\" data-src=\"htmlPages/Toxic relationship_P3.html\">Toxic relationship</a></li> \n",
      "        \n",
      "            <li><a id=\"What are characteristics of a toxic relationship\" data-src=\"htmlPages/What are characteristics of a toxic relationship_P4.html\">What are characteristics of a toxic relationship</a></li> \n",
      "        \n",
      "            <li><a id=\"What are types of partner-based violence\" data-src=\"htmlPages/What are types of partner-based violence_P4.html\">What are types of partner-based violence</a></li> \n",
      "        \n",
      "            <li><a id=\"What is financial abuse in relationships\" data-src=\"htmlPages/What is financial abuse in relationships_P4.html\">What is financial abuse in relationships</a></li> \n",
      "        \n",
      "            <li><a id=\"What is trauma bonding\" data-src=\"htmlPages/What is trauma bonding_P6.html\">What is trauma bonding</a></li> \n",
      "        \n",
      "            <li><a id=\"Why do people stay in toxic relationships\" data-src=\"htmlPages/Why do people stay in toxic relationships_P6.html\">Why do people stay in toxic relationships</a></li> \n",
      "        \n",
      "            <li><a id=\"Why is it hard to leave an abusive partner\" data-src=\"htmlPages/Why is it hard to leave an abusive partner_P6.html\">Why is it hard to leave an abusive partner</a></li> \n",
      "        \n",
      "            <li><a id=\"emotional abuse checklist\" data-src=\"htmlPages/emotional abuse checklist_P2.html\">emotional abuse checklist</a></li> \n",
      "        \n",
      "            <li><a id=\"how to tell if you are in a toxic relationship\" data-src=\"htmlPages/how to tell if you are in a toxic relationship_P2.html\">how to tell if you are in a toxic relationship</a></li> \n",
      "        \n",
      "            <li><a id=\"how to tell if you are in an emotionally abusive relationship\" data-src=\"htmlPages/how to tell if you are in an emotionally abusive relationship_P2.html\">how to tell if you are in an emotionally abusive relationship</a></li> \n",
      "        \n",
      "        </ul>\n",
      "    </body>\n",
      "</html>\n"
     ]
    }
   ],
   "source": [
    "#Render the template by passing as an argument the list of objects.\n",
    "\n",
    "result = tempObj.render(relationships=relationships)\n",
    "print(result)"
   ]
  },
  {
   "cell_type": "code",
   "execution_count": 68,
   "id": "e54804df",
   "metadata": {},
   "outputs": [],
   "source": [
    "with open('relationshipQueryTags.html', 'w') as outFile:\n",
    "    outFile.write(result)"
   ]
  },
  {
   "cell_type": "code",
   "execution_count": null,
   "id": "45d528c2",
   "metadata": {},
   "outputs": [],
   "source": []
  }
 ],
 "metadata": {
  "kernelspec": {
   "display_name": "Python 3 (ipykernel)",
   "language": "python",
   "name": "python3"
  },
  "language_info": {
   "codemirror_mode": {
    "name": "ipython",
    "version": 3
   },
   "file_extension": ".py",
   "mimetype": "text/x-python",
   "name": "python",
   "nbconvert_exporter": "python",
   "pygments_lexer": "ipython3",
   "version": "3.9.7"
  }
 },
 "nbformat": 4,
 "nbformat_minor": 5
}
