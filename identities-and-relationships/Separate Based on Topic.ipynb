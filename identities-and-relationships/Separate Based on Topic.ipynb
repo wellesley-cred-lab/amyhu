{
 "cells": [
  {
   "cell_type": "code",
   "execution_count": 111,
   "id": "925c93dc",
   "metadata": {},
   "outputs": [],
   "source": [
    "#Dictionary with just name csv of the topic has query as key.\n",
    "#if filename in the keyset, classified as topic"
   ]
  },
  {
   "cell_type": "code",
   "execution_count": 112,
   "id": "bab49891",
   "metadata": {},
   "outputs": [],
   "source": [
    "import os"
   ]
  },
  {
   "cell_type": "code",
   "execution_count": 113,
   "id": "e83de538",
   "metadata": {},
   "outputs": [
    {
     "data": {
      "text/plain": [
       "121"
      ]
     },
     "execution_count": 113,
     "metadata": {},
     "output_type": "execute_result"
    }
   ],
   "source": [
    "files = os.listdir('SERP_Collection/6-8-22')\n",
    "#print(files)\n",
    "#files.remove(\".DS_Store\")\n",
    "len(files)"
   ]
  },
  {
   "cell_type": "code",
   "execution_count": 114,
   "id": "9cde3af4",
   "metadata": {},
   "outputs": [],
   "source": [
    "files.sort()"
   ]
  },
  {
   "cell_type": "code",
   "execution_count": 115,
   "id": "b52a56fc",
   "metadata": {},
   "outputs": [],
   "source": [
    "queryNames = []\n",
    "for f in files:\n",
    "    queryName = f[0:f.find(\".\")]\n",
    "    queryNames.append(queryName)\n",
    "#print(queryNames)"
   ]
  },
  {
   "cell_type": "code",
   "execution_count": 116,
   "id": "8d1ea380",
   "metadata": {},
   "outputs": [],
   "source": [
    "import csv"
   ]
  },
  {
   "cell_type": "code",
   "execution_count": 117,
   "id": "0b2466d9",
   "metadata": {},
   "outputs": [],
   "source": [
    "def removeSlash(s):\n",
    "    s = s.replace(\"/\",\" \")\n",
    "    return s"
   ]
  },
  {
   "cell_type": "code",
   "execution_count": 118,
   "id": "8dd6240a",
   "metadata": {},
   "outputs": [
    {
     "name": "stdout",
     "output_type": "stream",
     "text": [
      "78\n"
     ]
    }
   ],
   "source": [
    "with open(\"Topic-Classification/SERP obs 1 pilot tracking - Topic 1.csv\") as fileToRead:     # open file to read\n",
    "    csvReader = csv.DictReader(fileToRead)   # create reader object\n",
    "    rows = [row for row in csvReader]        # do the reading of each row\n",
    "\n",
    "identities = []\n",
    "for qn in queryNames:\n",
    "    #print(qn)\n",
    "    for row in rows:\n",
    "        if qn == removeSlash(row['Queries ']):\n",
    "            identities.append(qn)\n",
    "            break\n",
    "identities = list(dict.fromkeys(identities))\n",
    "print(len(identities))\n",
    "#print(identities)"
   ]
  },
  {
   "cell_type": "code",
   "execution_count": 119,
   "id": "8c0c98a0",
   "metadata": {},
   "outputs": [],
   "source": [
    "import json"
   ]
  },
  {
   "cell_type": "code",
   "execution_count": 120,
   "id": "2d499eec",
   "metadata": {},
   "outputs": [],
   "source": [
    "with open('identitiesQueryList.json', 'w') as outFile:\n",
    "    json.dump(identities, outFile)"
   ]
  },
  {
   "cell_type": "code",
   "execution_count": null,
   "id": "90f8e280",
   "metadata": {},
   "outputs": [],
   "source": []
  },
  {
   "cell_type": "code",
   "execution_count": 121,
   "id": "88f71768",
   "metadata": {},
   "outputs": [
    {
     "name": "stdout",
     "output_type": "stream",
     "text": [
      "41\n",
      "['Abusive relationship cycle', 'Abusive relationship help MA ', 'Abusive relationship help', 'Abusive relationship signs', 'Abusive relationship types ', 'Abusive relationship', 'Attachment styles and cycles of abuse', 'Communities for victims of partner-based violence', 'Different kinds of domestic abuse', 'Domestic violence hotlines and resources', 'Domestic violence', 'Emotional vs physical abuse', 'Gaslighting', 'Healthy vs unhealthy love', 'Hotlines for those in abusive relationships', 'How become financially independent in a relationship', 'How many women die from domestic violence', 'How many women suffer from violence in relationships', 'How to get out of a toxic relationship', 'How to help a friend in an abusive relationship', 'How to learn to receive healthy love', 'How to leave an abusive relationship', 'How to recognize an abusive partner', 'How to recognize emotional abuse in relationships', 'How to recover from an abusive relationship', 'Learning about attachment styles', 'Partner abuse', 'Resources for reporting partner abuse', 'Safety plan domestic violence', 'Toxic relationship patterns', 'Toxic relationship test ', 'Toxic relationship', 'What are characteristics of a toxic relationship', 'What are types of partner-based violence', 'What is financial abuse in relationships', 'What is trauma bonding', 'Why do people stay in toxic relationships', 'Why is it hard to leave an abusive partner', 'emotional abuse checklist', 'how to tell if you are in a toxic relationship', 'how to tell if you are in an emotionally abusive relationship']\n"
     ]
    }
   ],
   "source": [
    "with open(\"Topic-Classification/SERP obs 1 query tracking - Topic 2_ toxic.csv\") as fileToRead:     # open file to read\n",
    "    csvReader = csv.DictReader(fileToRead)   # create reader object\n",
    "    rows = [row for row in csvReader]        # do the reading of each row\n",
    "\n",
    "relationships = []\n",
    "for qn in queryNames:\n",
    "    #print(qn)\n",
    "    for row in rows:\n",
    "        if qn == row['Queries ']:\n",
    "            relationships.append(qn)\n",
    "            break\n",
    "relationships = list(dict.fromkeys(relationships))\n",
    "print(len(relationships))\n",
    "print(relationships)"
   ]
  },
  {
   "cell_type": "code",
   "execution_count": 122,
   "id": "e2ba661e",
   "metadata": {},
   "outputs": [],
   "source": [
    "import json"
   ]
  },
  {
   "cell_type": "code",
   "execution_count": 123,
   "id": "cddce310",
   "metadata": {},
   "outputs": [],
   "source": [
    "with open('relationshipsQueryList.json', 'w') as outFile:\n",
    "    json.dump(relationships, outFile)"
   ]
  },
  {
   "cell_type": "code",
   "execution_count": null,
   "id": "7acecd0b",
   "metadata": {},
   "outputs": [],
   "source": []
  }
 ],
 "metadata": {
  "kernelspec": {
   "display_name": "Python 3 (ipykernel)",
   "language": "python",
   "name": "python3"
  },
  "language_info": {
   "codemirror_mode": {
    "name": "ipython",
    "version": 3
   },
   "file_extension": ".py",
   "mimetype": "text/x-python",
   "name": "python",
   "nbconvert_exporter": "python",
   "pygments_lexer": "ipython3",
   "version": "3.9.7"
  }
 },
 "nbformat": 4,
 "nbformat_minor": 5
}
