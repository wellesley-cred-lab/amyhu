{
 "cells": [
  {
   "cell_type": "code",
   "execution_count": 12,
   "id": "925c93dc",
   "metadata": {},
   "outputs": [],
   "source": [
    "#Dictionary with just name csv of the topic has query as key.\n",
    "#if filename in the keyset, classified as topic"
   ]
  },
  {
   "cell_type": "code",
   "execution_count": 13,
   "id": "5b270b75",
   "metadata": {},
   "outputs": [],
   "source": [
    "import os"
   ]
  },
  {
   "cell_type": "code",
   "execution_count": 14,
   "id": "3c9ecfe6",
   "metadata": {},
   "outputs": [
    {
     "data": {
      "text/plain": [
       "130"
      ]
     },
     "execution_count": 14,
     "metadata": {},
     "output_type": "execute_result"
    }
   ],
   "source": [
    "files = os.listdir('htmlPages')\n",
    "#print(files)\n",
    "files.remove(\".DS_Store\")\n",
    "len(files)"
   ]
  },
  {
   "cell_type": "code",
   "execution_count": 15,
   "id": "b8a76b2e",
   "metadata": {},
   "outputs": [],
   "source": [
    "files.sort()"
   ]
  },
  {
   "cell_type": "code",
   "execution_count": 36,
   "id": "5333fa6d",
   "metadata": {},
   "outputs": [],
   "source": [
    "queryNames = []\n",
    "for f in files:\n",
    "    queryName = f[0:f.find(\"_\")]\n",
    "    queryNames.append(queryName)\n",
    "#print(queryNames)"
   ]
  },
  {
   "cell_type": "code",
   "execution_count": 17,
   "id": "06858210",
   "metadata": {},
   "outputs": [],
   "source": [
    "import csv"
   ]
  },
  {
   "cell_type": "code",
   "execution_count": 35,
   "id": "d848e232",
   "metadata": {},
   "outputs": [
    {
     "name": "stdout",
     "output_type": "stream",
     "text": [
      "69\n"
     ]
    }
   ],
   "source": [
    "with open(\"Topic-Classification/SERP obs 1 pilot tracking - Topic 1.csv\") as fileToRead:     # open file to read\n",
    "    csvReader = csv.DictReader(fileToRead)   # create reader object\n",
    "    rows = [row for row in csvReader]        # do the reading of each row\n",
    "\n",
    "identities = []\n",
    "for qn in queryNames:\n",
    "    #print(qn)\n",
    "    for row in rows:\n",
    "        if qn == row['Queries ']:\n",
    "            identities.append(qn)\n",
    "            break\n",
    "identities = list(dict.fromkeys(identities))\n",
    "print(len(identities))\n",
    "#print(identities)"
   ]
  },
  {
   "cell_type": "code",
   "execution_count": 34,
   "id": "7e14fabd",
   "metadata": {},
   "outputs": [],
   "source": [
    "import json\n",
    "with open('identitiesQueryList.json', 'w') as outFile:\n",
    "    json.dump(identities, outFile)"
   ]
  },
  {
   "cell_type": "code",
   "execution_count": null,
   "id": "5b42f2c2",
   "metadata": {},
   "outputs": [],
   "source": []
  },
  {
   "cell_type": "code",
   "execution_count": 37,
   "id": "36c28547",
   "metadata": {},
   "outputs": [
    {
     "name": "stdout",
     "output_type": "stream",
     "text": [
      "41\n",
      "['Abusive relationship cycle', 'Abusive relationship help MA ', 'Abusive relationship help', 'Abusive relationship signs', 'Abusive relationship types ', 'Abusive relationship', 'Attachment styles and cycles of abuse', 'Communities for victims of partner-based violence', 'Different kinds of domestic abuse', 'Domestic violence hotlines and resources', 'Domestic violence', 'Emotional vs physical abuse', 'Gaslighting', 'Healthy vs unhealthy love', 'Hotlines for those in abusive relationships', 'How become financially independent in a relationship', 'How many women die from domestic violence', 'How many women suffer from violence in relationships', 'How to get out of a toxic relationship', 'How to help a friend in an abusive relationship', 'How to learn to receive healthy love', 'How to leave an abusive relationship', 'How to recognize an abusive partner', 'How to recognize emotional abuse in relationships', 'How to recover from an abusive relationship', 'Learning about attachment styles', 'Partner abuse', 'Resources for reporting partner abuse', 'Safety plan domestic violence', 'Toxic relationship patterns', 'Toxic relationship test ', 'Toxic relationship', 'What are characteristics of a toxic relationship', 'What are types of partner-based violence', 'What is financial abuse in relationships', 'What is trauma bonding', 'Why do people stay in toxic relationships', 'Why is it hard to leave an abusive partner', 'emotional abuse checklist', 'how to tell if you are in a toxic relationship', 'how to tell if you are in an emotionally abusive relationship']\n"
     ]
    }
   ],
   "source": [
    "with open(\"Topic-Classification/SERP obs 1 query tracking - Topic 2_ toxic.csv\") as fileToRead:     # open file to read\n",
    "    csvReader = csv.DictReader(fileToRead)   # create reader object\n",
    "    rows = [row for row in csvReader]        # do the reading of each row\n",
    "\n",
    "relationships = []\n",
    "for qn in queryNames:\n",
    "    #print(qn)\n",
    "    for row in rows:\n",
    "        if qn == row['Queries ']:\n",
    "            relationships.append(qn)\n",
    "            break\n",
    "relationships = list(dict.fromkeys(relationships))\n",
    "print(len(relationships))\n",
    "print(relationships)"
   ]
  },
  {
   "cell_type": "code",
   "execution_count": 38,
   "id": "1745b603",
   "metadata": {},
   "outputs": [],
   "source": [
    "import json\n",
    "with open('relationshipsQueryList.json', 'w') as outFile:\n",
    "    json.dump(relationships, outFile)"
   ]
  },
  {
   "cell_type": "code",
   "execution_count": null,
   "id": "10f6915a",
   "metadata": {},
   "outputs": [],
   "source": []
  }
 ],
 "metadata": {
  "kernelspec": {
   "display_name": "Python 3 (ipykernel)",
   "language": "python",
   "name": "python3"
  },
  "language_info": {
   "codemirror_mode": {
    "name": "ipython",
    "version": 3
   },
   "file_extension": ".py",
   "mimetype": "text/x-python",
   "name": "python",
   "nbconvert_exporter": "python",
   "pygments_lexer": "ipython3",
   "version": "3.9.7"
  }
 },
 "nbformat": 4,
 "nbformat_minor": 5
}
